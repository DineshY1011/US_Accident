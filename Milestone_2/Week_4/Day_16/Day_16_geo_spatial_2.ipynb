{
  "nbformat": 4,
  "nbformat_minor": 0,
  "metadata": {
    "colab": {
      "provenance": [],
      "gpuType": "V5E1",
      "include_colab_link": true
    },
    "kernelspec": {
      "name": "python3",
      "display_name": "Python 3"
    },
    "language_info": {
      "name": "python"
    },
    "accelerator": "TPU"
  },
  "cells": [
    {
      "cell_type": "markdown",
      "metadata": {
        "id": "view-in-github",
        "colab_type": "text"
      },
      "source": [
        "<a href=\"https://colab.research.google.com/github/DineshY1011/US_Accident/blob/main/Milestone_2/Week_4/Day_16/Day_16_geo_spatial_2.ipynb\" target=\"_parent\"><img src=\"https://colab.research.google.com/assets/colab-badge.svg\" alt=\"Open In Colab\"/></a>"
      ]
    },
    {
      "cell_type": "markdown",
      "source": [
        "### Geo Spatial Analysis of US Accident Data"
      ],
      "metadata": {
        "id": "IBxNNR73YmZU"
      }
    },
    {
      "cell_type": "code",
      "execution_count": 2,
      "metadata": {
        "colab": {
          "base_uri": "https://localhost:8080/",
          "height": 349
        },
        "id": "TdGTPLz_Yji7",
        "outputId": "d995c1ab-8d57-4521-a9af-a6489f90c274"
      },
      "outputs": [
        {
          "output_type": "error",
          "ename": "ModuleNotFoundError",
          "evalue": "No module named 'streamlit'",
          "traceback": [
            "\u001b[0;31m---------------------------------------------------------------------------\u001b[0m",
            "\u001b[0;31mModuleNotFoundError\u001b[0m                       Traceback (most recent call last)",
            "\u001b[0;32m/tmp/ipython-input-1458403628.py\u001b[0m in \u001b[0;36m<cell line: 0>\u001b[0;34m()\u001b[0m\n\u001b[1;32m      1\u001b[0m \u001b[0;32mimport\u001b[0m \u001b[0mpandas\u001b[0m \u001b[0;32mas\u001b[0m \u001b[0mpd\u001b[0m\u001b[0;34m\u001b[0m\u001b[0;34m\u001b[0m\u001b[0m\n\u001b[1;32m      2\u001b[0m \u001b[0;32mimport\u001b[0m \u001b[0mplotly\u001b[0m\u001b[0;34m.\u001b[0m\u001b[0mexpress\u001b[0m \u001b[0;32mas\u001b[0m \u001b[0mpx\u001b[0m\u001b[0;34m\u001b[0m\u001b[0;34m\u001b[0m\u001b[0m\n\u001b[0;32m----> 3\u001b[0;31m \u001b[0;32mimport\u001b[0m \u001b[0mstreamlit\u001b[0m \u001b[0;32mas\u001b[0m \u001b[0mst\u001b[0m\u001b[0;34m\u001b[0m\u001b[0;34m\u001b[0m\u001b[0m\n\u001b[0m",
            "\u001b[0;31mModuleNotFoundError\u001b[0m: No module named 'streamlit'",
            "",
            "\u001b[0;31m---------------------------------------------------------------------------\u001b[0;32m\nNOTE: If your import is failing due to a missing package, you can\nmanually install dependencies using either !pip or !apt.\n\nTo view examples of installing some common dependencies, click the\n\"Open Examples\" button below.\n\u001b[0;31m---------------------------------------------------------------------------\u001b[0m\n"
          ],
          "errorDetails": {
            "actions": [
              {
                "action": "open_url",
                "actionText": "Open Examples",
                "url": "/notebooks/snippets/importing_libraries.ipynb"
              }
            ]
          }
        }
      ],
      "source": [
        "import pandas as pd\n",
        "import plotly.express as px\n",
        "import streamlit as st"
      ]
    },
    {
      "cell_type": "code",
      "source": [
        "# Load dataset (assume CSV in working directory)\n",
        "dataset_path = \"/content/drive/MyDrive/data/US_Accidents_March23.csv\"\n",
        "df = pd.read_csv(dataset_path)"
      ],
      "metadata": {
        "id": "M5s6A16eZFt6"
      },
      "execution_count": null,
      "outputs": []
    },
    {
      "cell_type": "code",
      "source": [
        "def plot_accidents_sampled(df, location_col = 'State', sample_size=300000):\n",
        "  counts = df[location_col].value_counts().head(5)\n",
        "  top5_locations = counts.index.tolist()\n",
        "  df['is_top5'] = df[location_col].isin(top5_locations)\n",
        "\n",
        "  #Sample data to reduce size\n",
        "  if len(df) > sample_size:\n",
        "    df_sample = df.sample(sample_size, random_state=42)\n",
        "  else:\n",
        "    df_sample = df\n",
        "\n",
        "  fig = px.scatter(\n",
        "      df = df_sample,\n",
        "      x='Start_Lng',\n",
        "      y= 'Start_Lat',\n",
        "      color='is_top5',\n",
        "      labels = {'Start_Lng': 'Longitude', 'Start_Lat': 'Latitude', 'is_top5': 'Top 5 Accident-Prone'},\n",
        "      title = f\"Accident Scatter Plot Highlighting Top 5 {location_col}s\",\n",
        "      opacity = 0.6,\n",
        "      hover_data = [location_col]\n",
        "  )\n",
        "  st.plotly_chart(fig)\n",
        "st.title('Accident Data Visualization')\n",
        "\n",
        "location_options = st.selectbox(\"Select Location Type\", ['State', 'City'])\n",
        "plot_accidents_sampled(df, location_col=location_options)\n"
      ],
      "metadata": {
        "id": "G2jY__XqZKDM"
      },
      "execution_count": null,
      "outputs": []
    },
    {
      "cell_type": "markdown",
      "source": [
        "### Hypothesis Testing\n",
        "1. What time of day has the most accidents?\n",
        "2. Are accidents more severe during rain or fog?\n",
        "3. Is there a correlation between visibility and severity?"
      ],
      "metadata": {
        "id": "rB15FCjAd3-D"
      }
    },
    {
      "cell_type": "code",
      "source": [
        "df_sample = df.sample(300000)"
      ],
      "metadata": {
        "id": "c1PJXq5Mect8"
      },
      "execution_count": null,
      "outputs": []
    }
  ]
}