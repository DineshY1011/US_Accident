{
  "cells": [
    {
      "cell_type": "markdown",
      "metadata": {
        "id": "view-in-github",
        "colab_type": "text"
      },
      "source": [
        "<a href=\"https://colab.research.google.com/github/DineshY1011/US_Accident/blob/main/Milestone_1/Week_2/Day_10/Day_10_encoding_data.ipynb\" target=\"_parent\"><img src=\"https://colab.research.google.com/assets/colab-badge.svg\" alt=\"Open In Colab\"/></a>"
      ]
    },
    {
      "cell_type": "markdown",
      "id": "e1f32c32",
      "metadata": {
        "id": "e1f32c32"
      },
      "source": [
        "### Encode Categorical Features:\n",
        "- Categorical encoding is converting categorical variables (textual or nominal data) into numerical format that machine learning algorithms can use. Common methods include:\n",
        "\n",
        "- ``Label Encoding:`` Assigning each unique category an integer label. Suitable for ordinal categories or tree-based models.\n",
        "\n",
        "- ``One-Hot Encoding:`` Creating binary columns for each category, indicating presence/absence. Good for nominal categorical variables with no intrinsic order.\n",
        "\n",
        "- ``Pandas`` Categorical dtype: Efficient memory representation and can be used for encoding."
      ]
    },
    {
      "cell_type": "code",
      "execution_count": 1,
      "id": "17900687",
      "metadata": {
        "id": "17900687",
        "outputId": "d6c314fe-5fc7-41f1-c2ab-e43766b5b882",
        "colab": {
          "base_uri": "https://localhost:8080/"
        }
      },
      "outputs": [
        {
          "output_type": "stream",
          "name": "stdout",
          "text": [
            "Original Dataset:\n",
            "          City Weather  Severity  Accidents\n",
            "0     New York   Sunny         3        100\n",
            "1  Los Angeles   Rainy         2        150\n",
            "2     New York   Sunny         3        100\n",
            "3      Chicago  Cloudy         1         80\n",
            "4      Houston   Sunny         4         90\n",
            "5  Los Angeles   Rainy         2        150\n",
            "6       Boston   Rainy         3         60\n",
            "7       Boston   Sunny         3         60\n",
            "8      Chicago  Cloudy         1         80\n"
          ]
        }
      ],
      "source": [
        "import pandas as pd\n",
        "import numpy as np\n",
        "\n",
        "# Synthetic dataset with categorical and duplicate rows\n",
        "data = {\n",
        "    'City': ['New York', 'Los Angeles', 'New York', 'Chicago', 'Houston', 'Los Angeles', 'Boston', 'Boston', 'Chicago'],\n",
        "    'Weather': ['Sunny', 'Rainy', 'Sunny', 'Cloudy', 'Sunny', 'Rainy', 'Rainy', 'Sunny', 'Cloudy'],\n",
        "    'Severity': [3, 2, 3, 1, 4, 2, 3, 3, 1],\n",
        "    'Accidents': [100, 150, 100, 80, 90, 150, 60, 60, 80]\n",
        "}\n",
        "\n",
        "df = pd.DataFrame(data)\n",
        "print(\"Original Dataset:\")\n",
        "print(df)"
      ]
    },
    {
      "cell_type": "markdown",
      "id": "7d6075a0",
      "metadata": {
        "id": "7d6075a0"
      },
      "source": [
        "### Remove Duplicates:\n",
        "Duplicates are repeated rows in the dataset that may bias analysis or models. Removing duplicates ensures data integrity and accuracy. Pandas `drop_duplicates()` method identifies and removes duplicate rows based on all or selected columns."
      ]
    },
    {
      "cell_type": "code",
      "execution_count": 2,
      "id": "bab0be99",
      "metadata": {
        "id": "bab0be99",
        "outputId": "9db6df70-6f6f-4158-eb40-337c9155ea5a",
        "colab": {
          "base_uri": "https://localhost:8080/"
        }
      },
      "outputs": [
        {
          "output_type": "stream",
          "name": "stdout",
          "text": [
            "\n",
            "After removing duplicates:\n",
            "          City Weather  Severity  Accidents\n",
            "0     New York   Sunny         3        100\n",
            "1  Los Angeles   Rainy         2        150\n",
            "3      Chicago  Cloudy         1         80\n",
            "4      Houston   Sunny         4         90\n",
            "6       Boston   Rainy         3         60\n",
            "7       Boston   Sunny         3         60\n"
          ]
        }
      ],
      "source": [
        "# Remove duplicate rows\n",
        "df_no_duplicates = df.drop_duplicates()\n",
        "print(\"\\nAfter removing duplicates:\")\n",
        "print(df_no_duplicates)"
      ]
    },
    {
      "cell_type": "code",
      "execution_count": 3,
      "id": "6586f171",
      "metadata": {
        "id": "6586f171",
        "outputId": "0c36fcdb-a3b7-4d96-ba82-5edd003e141d",
        "colab": {
          "base_uri": "https://localhost:8080/"
        }
      },
      "outputs": [
        {
          "output_type": "stream",
          "name": "stdout",
          "text": [
            "\n",
            "Label Encoded 'City' column:\n",
            "          City  City_Encoded\n",
            "0     New York             4\n",
            "1  Los Angeles             3\n",
            "3      Chicago             1\n",
            "4      Houston             2\n",
            "6       Boston             0\n",
            "7       Boston             0\n"
          ]
        },
        {
          "output_type": "stream",
          "name": "stderr",
          "text": [
            "/tmp/ipython-input-397821232.py:2: SettingWithCopyWarning: \n",
            "A value is trying to be set on a copy of a slice from a DataFrame.\n",
            "Try using .loc[row_indexer,col_indexer] = value instead\n",
            "\n",
            "See the caveats in the documentation: https://pandas.pydata.org/pandas-docs/stable/user_guide/indexing.html#returning-a-view-versus-a-copy\n",
            "  df_no_duplicates['City_Encoded'] = df_no_duplicates['City'].astype('category').cat.codes\n"
          ]
        }
      ],
      "source": [
        "# Label Encoding with pandas category dtype\n",
        "df_no_duplicates['City_Encoded'] = df_no_duplicates['City'].astype('category').cat.codes\n",
        "print(\"\\nLabel Encoded 'City' column:\")\n",
        "print(df_no_duplicates[['City', 'City_Encoded']])"
      ]
    },
    {
      "cell_type": "code",
      "execution_count": 4,
      "id": "e8289ec5",
      "metadata": {
        "id": "e8289ec5",
        "outputId": "d9f23166-caf8-4475-d4c5-57c3143cd0bb",
        "colab": {
          "base_uri": "https://localhost:8080/"
        }
      },
      "outputs": [
        {
          "output_type": "stream",
          "name": "stdout",
          "text": [
            "\n",
            "One-Hot Encoded 'Weather' column:\n",
            "          City  Severity  Accidents  City_Encoded  Weather_Cloudy  \\\n",
            "0     New York         3        100             4           False   \n",
            "1  Los Angeles         2        150             3           False   \n",
            "3      Chicago         1         80             1            True   \n",
            "4      Houston         4         90             2           False   \n",
            "6       Boston         3         60             0           False   \n",
            "\n",
            "   Weather_Rainy  Weather_Sunny  \n",
            "0          False           True  \n",
            "1           True          False  \n",
            "3          False          False  \n",
            "4          False           True  \n",
            "6           True          False  \n"
          ]
        }
      ],
      "source": [
        "# One-Hot Encoding using pandas get_dummies\n",
        "df_onehot = pd.get_dummies(df_no_duplicates, columns=['Weather'])\n",
        "print(\"\\nOne-Hot Encoded 'Weather' column:\")\n",
        "print(df_onehot.head())"
      ]
    },
    {
      "cell_type": "markdown",
      "id": "170218fb",
      "metadata": {
        "id": "170218fb"
      },
      "source": [
        "### Outliers Handling:\n",
        "Outliers are data points that deviate significantly from the majority distribution. They may be errors or rare events.\n",
        "\n",
        "Handling can be by:\n",
        "\n",
        "- Removal if they are errors or noise.\n",
        "\n",
        "- Capping or transformation to reduce skew.\n",
        "\n",
        "- Leaving as is if meaningful for analysis."
      ]
    },
    {
      "cell_type": "code",
      "execution_count": 5,
      "id": "b8e93b9b",
      "metadata": {
        "id": "b8e93b9b",
        "outputId": "31853fc7-9ccd-44b0-8438-57131a66cf5d",
        "colab": {
          "base_uri": "https://localhost:8080/"
        }
      },
      "outputs": [
        {
          "output_type": "stream",
          "name": "stdout",
          "text": [
            "\n",
            "Detected outliers:\n",
            "          City Weather  Severity  Accidents  City_Encoded\n",
            "1  Los Angeles   Rainy         2        150             3\n",
            "\n",
            "Dataset after removing outliers:\n",
            "       City Weather  Severity  Accidents  City_Encoded\n",
            "0  New York   Sunny         3        100             4\n",
            "3   Chicago  Cloudy         1         80             1\n",
            "4   Houston   Sunny         4         90             2\n",
            "6    Boston   Rainy         3         60             0\n",
            "7    Boston   Sunny         3         60             0\n",
            "\n",
            "Dataset after capping outliers:\n",
            "          City Weather  Severity  Accidents  City_Encoded\n",
            "0     New York   Sunny         3     100.00             4\n",
            "1  Los Angeles   Rainy         2     146.25             3\n",
            "3      Chicago  Cloudy         1      80.00             1\n",
            "4      Houston   Sunny         4      90.00             2\n",
            "6       Boston   Rainy         3      60.00             0\n",
            "7       Boston   Sunny         3      60.00             0\n"
          ]
        }
      ],
      "source": [
        "# Detecting and handling outliers in 'Accidents' column using IQR method:\n",
        "\n",
        "Q1 = df_no_duplicates['Accidents'].quantile(0.25)\n",
        "Q3 = df_no_duplicates['Accidents'].quantile(0.75)\n",
        "IQR = Q3 - Q1\n",
        "\n",
        "# Define bounds\n",
        "lower_bound = Q1 - 1.5 * IQR\n",
        "upper_bound = Q3 + 1.5 * IQR\n",
        "\n",
        "# Identify outliers\n",
        "outliers = df_no_duplicates[(df_no_duplicates['Accidents'] < lower_bound) | (df_no_duplicates['Accidents'] > upper_bound)]\n",
        "print(\"\\nDetected outliers:\")\n",
        "print(outliers)\n",
        "\n",
        "# Option 1: Remove outliers\n",
        "df_no_outliers = df_no_duplicates[(df_no_duplicates['Accidents'] >= lower_bound) & (df_no_duplicates['Accidents'] <= upper_bound)]\n",
        "print(\"\\nDataset after removing outliers:\")\n",
        "print(df_no_outliers)\n",
        "\n",
        "# Option 2: Cap outliers (winsorizing)\n",
        "df_capped = df_no_duplicates.copy()\n",
        "df_capped['Accidents'] = np.where(df_capped['Accidents'] > upper_bound, upper_bound,\n",
        "                                  np.where(df_capped['Accidents'] < lower_bound, lower_bound, df_capped['Accidents']))\n",
        "print(\"\\nDataset after capping outliers:\")\n",
        "print(df_capped)\n"
      ]
    },
    {
      "cell_type": "markdown",
      "id": "5ef0d4af",
      "metadata": {
        "id": "5ef0d4af"
      },
      "source": [
        "### Task:\n",
        "- Visualize this outlier using boxplot."
      ]
    },
    {
      "cell_type": "code",
      "source": [
        "import matplotlib.pyplot as plt\n",
        "import seaborn as sns\n",
        "\n",
        "# Using Seaborn boxplot\n",
        "plt.figure(figsize=(8,5))\n",
        "sns.boxplot(x=df_no_duplicates['Accidents'])\n",
        "plt.title(\"Boxplot of Accidents\")\n",
        "plt.xlabel(\"Number of Accidents\")\n",
        "plt.show()"
      ],
      "metadata": {
        "colab": {
          "base_uri": "https://localhost:8080/",
          "height": 487
        },
        "id": "cKfp8HYaM1bS",
        "outputId": "c8fdbda0-eb85-457f-b1ba-5e18ec6e4e72"
      },
      "id": "cKfp8HYaM1bS",
      "execution_count": 6,
      "outputs": [
        {
          "output_type": "display_data",
          "data": {
            "text/plain": [
              "<Figure size 800x500 with 1 Axes>"
            ],
            "image/png": "[encoded data removed]"
          },
          "metadata": {}
        }
      ]
    }
  ],
  "metadata": {
    "kernelspec": {
      "display_name": "Python 3",
      "name": "python3"
    },
    "language_info": {
      "codemirror_mode": {
        "name": "ipython",
        "version": 3
      },
      "file_extension": ".py",
      "mimetype": "text/x-python",
      "name": "python",
      "nbconvert_exporter": "python",
      "pygments_lexer": "ipython3",
      "version": "3.11.9"
    },
    "colab": {
      "provenance": [],
      "gpuType": "T4",
      "include_colab_link": true
    },
    "accelerator": "GPU"
  },
  "nbformat": 4,
  "nbformat_minor": 5
}