{
  "cells": [
    {
      "cell_type": "markdown",
      "metadata": {
        "id": "view-in-github",
        "colab_type": "text"
      },
      "source": [
        "<a href=\"https://colab.research.google.com/github/DineshY1011/US_Accident/blob/main/Milestone_1/Week_2/Day_8/Day_8_handle_missing_data.ipynb\" target=\"_parent\"><img src=\"https://colab.research.google.com/assets/colab-badge.svg\" alt=\"Open In Colab\"/></a>"
      ]
    },
    {
      "cell_type": "code",
      "execution_count": null,
      "id": "8ab17fbd",
      "metadata": {
        "id": "8ab17fbd"
      },
      "outputs": [],
      "source": [
        "import pandas as pd\n",
        "import numpy as np"
      ]
    },
    {
      "cell_type": "code",
      "execution_count": null,
      "id": "7959a2ce",
      "metadata": {
        "id": "7959a2ce"
      },
      "outputs": [],
      "source": [
        "dataset_path = \"C:/Users/win10/Desktop/US_Accidents_March23.csv\"\n",
        "us_accidents_df = pd.read_csv(dataset_path)"
      ]
    },
    {
      "cell_type": "code",
      "execution_count": null,
      "id": "f74f469c",
      "metadata": {
        "id": "f74f469c",
        "outputId": "de0fad1b-a068-4c9d-e7e7-0ed2c4331e1d"
      },
      "outputs": [
        {
          "data": {
            "text/html": [
              "<div>\n",
              "<style scoped>\n",
              "    .dataframe tbody tr th:only-of-type {\n",
              "        vertical-align: middle;\n",
              "    }\n",
              "\n",
              "    .dataframe tbody tr th {\n",
              "        vertical-align: top;\n",
              "    }\n",
              "\n",
              "    .dataframe thead th {\n",
              "        text-align: right;\n",
              "    }\n",
              "</style>\n",
              "<table border=\"1\" class=\"dataframe\">\n",
              "  <thead>\n",
              "    <tr style=\"text-align: right;\">\n",
              "      <th></th>\n",
              "      <th>ID</th>\n",
              "      <th>Source</th>\n",
              "      <th>Severity</th>\n",
              "      <th>Start_Time</th>\n",
              "      <th>End_Time</th>\n",
              "      <th>Start_Lat</th>\n",
              "      <th>Start_Lng</th>\n",
              "      <th>End_Lat</th>\n",
              "      <th>End_Lng</th>\n",
              "      <th>Distance(mi)</th>\n",
              "      <th>...</th>\n",
              "      <th>Roundabout</th>\n",
              "      <th>Station</th>\n",
              "      <th>Stop</th>\n",
              "      <th>Traffic_Calming</th>\n",
              "      <th>Traffic_Signal</th>\n",
              "      <th>Turning_Loop</th>\n",
              "      <th>Sunrise_Sunset</th>\n",
              "      <th>Civil_Twilight</th>\n",
              "      <th>Nautical_Twilight</th>\n",
              "      <th>Astronomical_Twilight</th>\n",
              "    </tr>\n",
              "  </thead>\n",
              "  <tbody>\n",
              "    <tr>\n",
              "      <th>0</th>\n",
              "      <td>False</td>\n",
              "      <td>False</td>\n",
              "      <td>False</td>\n",
              "      <td>False</td>\n",
              "      <td>False</td>\n",
              "      <td>False</td>\n",
              "      <td>False</td>\n",
              "      <td>True</td>\n",
              "      <td>True</td>\n",
              "      <td>False</td>\n",
              "      <td>...</td>\n",
              "      <td>False</td>\n",
              "      <td>False</td>\n",
              "      <td>False</td>\n",
              "      <td>False</td>\n",
              "      <td>False</td>\n",
              "      <td>False</td>\n",
              "      <td>False</td>\n",
              "      <td>False</td>\n",
              "      <td>False</td>\n",
              "      <td>False</td>\n",
              "    </tr>\n",
              "    <tr>\n",
              "      <th>1</th>\n",
              "      <td>False</td>\n",
              "      <td>False</td>\n",
              "      <td>False</td>\n",
              "      <td>False</td>\n",
              "      <td>False</td>\n",
              "      <td>False</td>\n",
              "      <td>False</td>\n",
              "      <td>True</td>\n",
              "      <td>True</td>\n",
              "      <td>False</td>\n",
              "      <td>...</td>\n",
              "      <td>False</td>\n",
              "      <td>False</td>\n",
              "      <td>False</td>\n",
              "      <td>False</td>\n",
              "      <td>False</td>\n",
              "      <td>False</td>\n",
              "      <td>False</td>\n",
              "      <td>False</td>\n",
              "      <td>False</td>\n",
              "      <td>False</td>\n",
              "    </tr>\n",
              "    <tr>\n",
              "      <th>2</th>\n",
              "      <td>False</td>\n",
              "      <td>False</td>\n",
              "      <td>False</td>\n",
              "      <td>False</td>\n",
              "      <td>False</td>\n",
              "      <td>False</td>\n",
              "      <td>False</td>\n",
              "      <td>True</td>\n",
              "      <td>True</td>\n",
              "      <td>False</td>\n",
              "      <td>...</td>\n",
              "      <td>False</td>\n",
              "      <td>False</td>\n",
              "      <td>False</td>\n",
              "      <td>False</td>\n",
              "      <td>False</td>\n",
              "      <td>False</td>\n",
              "      <td>False</td>\n",
              "      <td>False</td>\n",
              "      <td>False</td>\n",
              "      <td>False</td>\n",
              "    </tr>\n",
              "    <tr>\n",
              "      <th>3</th>\n",
              "      <td>False</td>\n",
              "      <td>False</td>\n",
              "      <td>False</td>\n",
              "      <td>False</td>\n",
              "      <td>False</td>\n",
              "      <td>False</td>\n",
              "      <td>False</td>\n",
              "      <td>True</td>\n",
              "      <td>True</td>\n",
              "      <td>False</td>\n",
              "      <td>...</td>\n",
              "      <td>False</td>\n",
              "      <td>False</td>\n",
              "      <td>False</td>\n",
              "      <td>False</td>\n",
              "      <td>False</td>\n",
              "      <td>False</td>\n",
              "      <td>False</td>\n",
              "      <td>False</td>\n",
              "      <td>False</td>\n",
              "      <td>False</td>\n",
              "    </tr>\n",
              "    <tr>\n",
              "      <th>4</th>\n",
              "      <td>False</td>\n",
              "      <td>False</td>\n",
              "      <td>False</td>\n",
              "      <td>False</td>\n",
              "      <td>False</td>\n",
              "      <td>False</td>\n",
              "      <td>False</td>\n",
              "      <td>True</td>\n",
              "      <td>True</td>\n",
              "      <td>False</td>\n",
              "      <td>...</td>\n",
              "      <td>False</td>\n",
              "      <td>False</td>\n",
              "      <td>False</td>\n",
              "      <td>False</td>\n",
              "      <td>False</td>\n",
              "      <td>False</td>\n",
              "      <td>False</td>\n",
              "      <td>False</td>\n",
              "      <td>False</td>\n",
              "      <td>False</td>\n",
              "    </tr>\n",
              "    <tr>\n",
              "      <th>...</th>\n",
              "      <td>...</td>\n",
              "      <td>...</td>\n",
              "      <td>...</td>\n",
              "      <td>...</td>\n",
              "      <td>...</td>\n",
              "      <td>...</td>\n",
              "      <td>...</td>\n",
              "      <td>...</td>\n",
              "      <td>...</td>\n",
              "      <td>...</td>\n",
              "      <td>...</td>\n",
              "      <td>...</td>\n",
              "      <td>...</td>\n",
              "      <td>...</td>\n",
              "      <td>...</td>\n",
              "      <td>...</td>\n",
              "      <td>...</td>\n",
              "      <td>...</td>\n",
              "      <td>...</td>\n",
              "      <td>...</td>\n",
              "      <td>...</td>\n",
              "    </tr>\n",
              "    <tr>\n",
              "      <th>7728389</th>\n",
              "      <td>False</td>\n",
              "      <td>False</td>\n",
              "      <td>False</td>\n",
              "      <td>False</td>\n",
              "      <td>False</td>\n",
              "      <td>False</td>\n",
              "      <td>False</td>\n",
              "      <td>False</td>\n",
              "      <td>False</td>\n",
              "      <td>False</td>\n",
              "      <td>...</td>\n",
              "      <td>False</td>\n",
              "      <td>False</td>\n",
              "      <td>False</td>\n",
              "      <td>False</td>\n",
              "      <td>False</td>\n",
              "      <td>False</td>\n",
              "      <td>False</td>\n",
              "      <td>False</td>\n",
              "      <td>False</td>\n",
              "      <td>False</td>\n",
              "    </tr>\n",
              "    <tr>\n",
              "      <th>7728390</th>\n",
              "      <td>False</td>\n",
              "      <td>False</td>\n",
              "      <td>False</td>\n",
              "      <td>False</td>\n",
              "      <td>False</td>\n",
              "      <td>False</td>\n",
              "      <td>False</td>\n",
              "      <td>False</td>\n",
              "      <td>False</td>\n",
              "      <td>False</td>\n",
              "      <td>...</td>\n",
              "      <td>False</td>\n",
              "      <td>False</td>\n",
              "      <td>False</td>\n",
              "      <td>False</td>\n",
              "      <td>False</td>\n",
              "      <td>False</td>\n",
              "      <td>False</td>\n",
              "      <td>False</td>\n",
              "      <td>False</td>\n",
              "      <td>False</td>\n",
              "    </tr>\n",
              "    <tr>\n",
              "      <th>7728391</th>\n",
              "      <td>False</td>\n",
              "      <td>False</td>\n",
              "      <td>False</td>\n",
              "      <td>False</td>\n",
              "      <td>False</td>\n",
              "      <td>False</td>\n",
              "      <td>False</td>\n",
              "      <td>False</td>\n",
              "      <td>False</td>\n",
              "      <td>False</td>\n",
              "      <td>...</td>\n",
              "      <td>False</td>\n",
              "      <td>False</td>\n",
              "      <td>False</td>\n",
              "      <td>False</td>\n",
              "      <td>False</td>\n",
              "      <td>False</td>\n",
              "      <td>False</td>\n",
              "      <td>False</td>\n",
              "      <td>False</td>\n",
              "      <td>False</td>\n",
              "    </tr>\n",
              "    <tr>\n",
              "      <th>7728392</th>\n",
              "      <td>False</td>\n",
              "      <td>False</td>\n",
              "      <td>False</td>\n",
              "      <td>False</td>\n",
              "      <td>False</td>\n",
              "      <td>False</td>\n",
              "      <td>False</td>\n",
              "      <td>False</td>\n",
              "      <td>False</td>\n",
              "      <td>False</td>\n",
              "      <td>...</td>\n",
              "      <td>False</td>\n",
              "      <td>False</td>\n",
              "      <td>False</td>\n",
              "      <td>False</td>\n",
              "      <td>False</td>\n",
              "      <td>False</td>\n",
              "      <td>False</td>\n",
              "      <td>False</td>\n",
              "      <td>False</td>\n",
              "      <td>False</td>\n",
              "    </tr>\n",
              "    <tr>\n",
              "      <th>7728393</th>\n",
              "      <td>False</td>\n",
              "      <td>False</td>\n",
              "      <td>False</td>\n",
              "      <td>False</td>\n",
              "      <td>False</td>\n",
              "      <td>False</td>\n",
              "      <td>False</td>\n",
              "      <td>False</td>\n",
              "      <td>False</td>\n",
              "      <td>False</td>\n",
              "      <td>...</td>\n",
              "      <td>False</td>\n",
              "      <td>False</td>\n",
              "      <td>False</td>\n",
              "      <td>False</td>\n",
              "      <td>False</td>\n",
              "      <td>False</td>\n",
              "      <td>False</td>\n",
              "      <td>False</td>\n",
              "      <td>False</td>\n",
              "      <td>False</td>\n",
              "    </tr>\n",
              "  </tbody>\n",
              "</table>\n",
              "<p>7728394 rows × 46 columns</p>\n",
              "</div>"
            ],
            "text/plain": [
              "            ID  Source  Severity  Start_Time  End_Time  Start_Lat  Start_Lng  \\\n",
              "0        False   False     False       False     False      False      False   \n",
              "1        False   False     False       False     False      False      False   \n",
              "2        False   False     False       False     False      False      False   \n",
              "3        False   False     False       False     False      False      False   \n",
              "4        False   False     False       False     False      False      False   \n",
              "...        ...     ...       ...         ...       ...        ...        ...   \n",
              "7728389  False   False     False       False     False      False      False   \n",
              "7728390  False   False     False       False     False      False      False   \n",
              "7728391  False   False     False       False     False      False      False   \n",
              "7728392  False   False     False       False     False      False      False   \n",
              "7728393  False   False     False       False     False      False      False   \n",
              "\n",
              "         End_Lat  End_Lng  Distance(mi)  ...  Roundabout  Station   Stop  \\\n",
              "0           True     True         False  ...       False    False  False   \n",
              "1           True     True         False  ...       False    False  False   \n",
              "2           True     True         False  ...       False    False  False   \n",
              "3           True     True         False  ...       False    False  False   \n",
              "4           True     True         False  ...       False    False  False   \n",
              "...          ...      ...           ...  ...         ...      ...    ...   \n",
              "7728389    False    False         False  ...       False    False  False   \n",
              "7728390    False    False         False  ...       False    False  False   \n",
              "7728391    False    False         False  ...       False    False  False   \n",
              "7728392    False    False         False  ...       False    False  False   \n",
              "7728393    False    False         False  ...       False    False  False   \n",
              "\n",
              "         Traffic_Calming  Traffic_Signal  Turning_Loop  Sunrise_Sunset  \\\n",
              "0                  False           False         False           False   \n",
              "1                  False           False         False           False   \n",
              "2                  False           False         False           False   \n",
              "3                  False           False         False           False   \n",
              "4                  False           False         False           False   \n",
              "...                  ...             ...           ...             ...   \n",
              "7728389            False           False         False           False   \n",
              "7728390            False           False         False           False   \n",
              "7728391            False           False         False           False   \n",
              "7728392            False           False         False           False   \n",
              "7728393            False           False         False           False   \n",
              "\n",
              "         Civil_Twilight  Nautical_Twilight  Astronomical_Twilight  \n",
              "0                 False              False                  False  \n",
              "1                 False              False                  False  \n",
              "2                 False              False                  False  \n",
              "3                 False              False                  False  \n",
              "4                 False              False                  False  \n",
              "...                 ...                ...                    ...  \n",
              "7728389           False              False                  False  \n",
              "7728390           False              False                  False  \n",
              "7728391           False              False                  False  \n",
              "7728392           False              False                  False  \n",
              "7728393           False              False                  False  \n",
              "\n",
              "[7728394 rows x 46 columns]"
            ]
          },
          "execution_count": 4,
          "metadata": {},
          "output_type": "execute_result"
        }
      ],
      "source": [
        "us_accidents_df.isnull()"
      ]
    },
    {
      "cell_type": "code",
      "execution_count": null,
      "id": "3e35cba0",
      "metadata": {
        "id": "3e35cba0",
        "outputId": "b7b7f0cc-1f92-4240-bb2d-823b652c8ccd"
      },
      "outputs": [
        {
          "data": {
            "text/plain": [
              "ID                             0\n",
              "Source                         0\n",
              "Severity                       0\n",
              "Start_Time                     0\n",
              "End_Time                       0\n",
              "Start_Lat                      0\n",
              "Start_Lng                      0\n",
              "End_Lat                  3402762\n",
              "End_Lng                  3402762\n",
              "Distance(mi)                   0\n",
              "Description                    5\n",
              "Street                     10869\n",
              "City                         253\n",
              "County                         0\n",
              "State                          0\n",
              "Zipcode                     1915\n",
              "Country                        0\n",
              "Timezone                    7808\n",
              "Airport_Code               22635\n",
              "Weather_Timestamp         120228\n",
              "Temperature(F)            163853\n",
              "Wind_Chill(F)            1999019\n",
              "Humidity(%)               174144\n",
              "Pressure(in)              140679\n",
              "Visibility(mi)            177098\n",
              "Wind_Direction            175206\n",
              "Wind_Speed(mph)           571233\n",
              "Precipitation(in)        2203586\n",
              "Weather_Condition         173459\n",
              "Amenity                        0\n",
              "Bump                           0\n",
              "Crossing                       0\n",
              "Give_Way                       0\n",
              "Junction                       0\n",
              "No_Exit                        0\n",
              "Railway                        0\n",
              "Roundabout                     0\n",
              "Station                        0\n",
              "Stop                           0\n",
              "Traffic_Calming                0\n",
              "Traffic_Signal                 0\n",
              "Turning_Loop                   0\n",
              "Sunrise_Sunset             23246\n",
              "Civil_Twilight             23246\n",
              "Nautical_Twilight          23246\n",
              "Astronomical_Twilight      23246\n",
              "dtype: int64"
            ]
          },
          "execution_count": 5,
          "metadata": {},
          "output_type": "execute_result"
        }
      ],
      "source": [
        "us_accidents_df.isnull().sum()"
      ]
    },
    {
      "cell_type": "code",
      "execution_count": null,
      "id": "f1f9fa2f",
      "metadata": {
        "id": "f1f9fa2f",
        "outputId": "b9ffb812-639c-4f55-915b-db14953bed85"
      },
      "outputs": [
        {
          "data": {
            "text/plain": [
              "ID                        0.000000\n",
              "Source                    0.000000\n",
              "Severity                  0.000000\n",
              "Start_Time                0.000000\n",
              "End_Time                  0.000000\n",
              "Start_Lat                 0.000000\n",
              "Start_Lng                 0.000000\n",
              "End_Lat                  44.029355\n",
              "End_Lng                  44.029355\n",
              "Distance(mi)              0.000000\n",
              "Description               0.000065\n",
              "Street                    0.140637\n",
              "City                      0.003274\n",
              "County                    0.000000\n",
              "State                     0.000000\n",
              "Zipcode                   0.024779\n",
              "Country                   0.000000\n",
              "Timezone                  0.101030\n",
              "Airport_Code              0.292881\n",
              "Weather_Timestamp         1.555666\n",
              "Temperature(F)            2.120143\n",
              "Wind_Chill(F)            25.865904\n",
              "Humidity(%)               2.253301\n",
              "Pressure(in)              1.820288\n",
              "Visibility(mi)            2.291524\n",
              "Wind_Direction            2.267043\n",
              "Wind_Speed(mph)           7.391355\n",
              "Precipitation(in)        28.512858\n",
              "Weather_Condition         2.244438\n",
              "Amenity                   0.000000\n",
              "Bump                      0.000000\n",
              "Crossing                  0.000000\n",
              "Give_Way                  0.000000\n",
              "Junction                  0.000000\n",
              "No_Exit                   0.000000\n",
              "Railway                   0.000000\n",
              "Roundabout                0.000000\n",
              "Station                   0.000000\n",
              "Stop                      0.000000\n",
              "Traffic_Calming           0.000000\n",
              "Traffic_Signal            0.000000\n",
              "Turning_Loop              0.000000\n",
              "Sunrise_Sunset            0.300787\n",
              "Civil_Twilight            0.300787\n",
              "Nautical_Twilight         0.300787\n",
              "Astronomical_Twilight     0.300787\n",
              "dtype: float64"
            ]
          },
          "execution_count": 6,
          "metadata": {},
          "output_type": "execute_result"
        }
      ],
      "source": [
        "(us_accidents_df.isnull().sum()/us_accidents_df.shape[0])*100"
      ]
    },
    {
      "cell_type": "code",
      "execution_count": null,
      "id": "710b1873",
      "metadata": {
        "id": "710b1873"
      },
      "outputs": [],
      "source": [
        "# Drop the columns of 'End_lat' & 'End_lng' from this dataset.\n",
        "us_accidents_df.drop(['End_Lat', 'End_Lng'], axis=1, inplace=True)"
      ]
    },
    {
      "cell_type": "code",
      "execution_count": null,
      "id": "533834d1",
      "metadata": {
        "id": "533834d1",
        "outputId": "58093eb8-a176-4c63-8ff1-c34e77717ea2"
      },
      "outputs": [
        {
          "data": {
            "text/html": [
              "<div>\n",
              "<style scoped>\n",
              "    .dataframe tbody tr th:only-of-type {\n",
              "        vertical-align: middle;\n",
              "    }\n",
              "\n",
              "    .dataframe tbody tr th {\n",
              "        vertical-align: top;\n",
              "    }\n",
              "\n",
              "    .dataframe thead th {\n",
              "        text-align: right;\n",
              "    }\n",
              "</style>\n",
              "<table border=\"1\" class=\"dataframe\">\n",
              "  <thead>\n",
              "    <tr style=\"text-align: right;\">\n",
              "      <th></th>\n",
              "      <th>Wind_Speed(mph)</th>\n",
              "      <th>Precipitation(in)</th>\n",
              "    </tr>\n",
              "  </thead>\n",
              "  <tbody>\n",
              "    <tr>\n",
              "      <th>0</th>\n",
              "      <td>NaN</td>\n",
              "      <td>0.02</td>\n",
              "    </tr>\n",
              "    <tr>\n",
              "      <th>1</th>\n",
              "      <td>NaN</td>\n",
              "      <td>0.00</td>\n",
              "    </tr>\n",
              "    <tr>\n",
              "      <th>2</th>\n",
              "      <td>3.5</td>\n",
              "      <td>NaN</td>\n",
              "    </tr>\n",
              "    <tr>\n",
              "      <th>3</th>\n",
              "      <td>4.6</td>\n",
              "      <td>NaN</td>\n",
              "    </tr>\n",
              "    <tr>\n",
              "      <th>4</th>\n",
              "      <td>3.5</td>\n",
              "      <td>NaN</td>\n",
              "    </tr>\n",
              "  </tbody>\n",
              "</table>\n",
              "</div>"
            ],
            "text/plain": [
              "   Wind_Speed(mph)  Precipitation(in)\n",
              "0              NaN               0.02\n",
              "1              NaN               0.00\n",
              "2              3.5                NaN\n",
              "3              4.6                NaN\n",
              "4              3.5                NaN"
            ]
          },
          "execution_count": 8,
          "metadata": {},
          "output_type": "execute_result"
        }
      ],
      "source": [
        "# Handling the missing data of 'Wind_Speed(mph)' & 'Precipitation(in)'\n",
        "temp_df = us_accidents_df[['Wind_Speed(mph)', 'Precipitation(in)']][:1000000]\n",
        "temp_df.head()"
      ]
    },
    {
      "cell_type": "code",
      "execution_count": null,
      "id": "e3cdfb98",
      "metadata": {
        "id": "e3cdfb98",
        "outputId": "a1562121-6675-4947-f8e8-a8fdf5c05e0d"
      },
      "outputs": [
        {
          "name": "stdout",
          "output_type": "stream",
          "text": [
            "   Wind_Speed(mph)  Precipitation(in)\n",
            "0        13.000000           0.000000\n",
            "1        11.500000           0.000000\n",
            "2        10.000000           0.000000\n",
            "3        10.400000           0.020000\n",
            "4         7.769027           0.013425\n"
          ]
        }
      ],
      "source": [
        "import pandas as pd\n",
        "from sklearn.impute import KNNImputer\n",
        "\n",
        "# Suppose temp_df is your large DataFrame with 7.7 million rows\n",
        "\n",
        "# Step 1: Randomly sample 10,000 rows from the dataset\n",
        "sample_df = temp_df.sample(n=100000, random_state=42)\n",
        "\n",
        "# Step 2: Perform KNN imputation on the sample\n",
        "knn_imputer = KNNImputer(n_neighbors=2)\n",
        "sample_imputed = knn_imputer.fit_transform(sample_df)\n",
        "sample_imputed_df = pd.DataFrame(sample_imputed, columns=sample_df.columns)\n",
        "\n",
        "# Step 3: This sample_imputed_df is your imputed subset\n",
        "print(sample_imputed_df.head())\n"
      ]
    },
    {
      "cell_type": "markdown",
      "id": "c01fe05a",
      "metadata": {
        "id": "c01fe05a"
      },
      "source": [
        "### TASK: Impute the columns of 'Wind_Speed(mph)' & 'Weather_Conditions'"
      ]
    },
    {
      "cell_type": "markdown",
      "source": [
        "**1. Impute Wind_Speed(mph) (Numerical)**\n",
        "\n",
        "Options:\n",
        "*   Mean / Median imputation (simple, good baseline)\n",
        "\n",
        "*   KNN Imputer (better if correlated with other features like Temperature(F) or Visibility(mi))"
      ],
      "metadata": {
        "id": "z3PK8-2aAiE0"
      },
      "id": "z3PK8-2aAiE0"
    },
    {
      "cell_type": "code",
      "source": [
        "from google.colab import drive\n",
        "drive.mount('/content/drive')"
      ],
      "metadata": {
        "colab": {
          "base_uri": "https://localhost:8080/"
        },
        "id": "4YhLlVuGCHS9",
        "outputId": "655e4e82-c068-450e-de3f-16798d681bb0"
      },
      "id": "4YhLlVuGCHS9",
      "execution_count": 2,
      "outputs": [
        {
          "output_type": "stream",
          "name": "stdout",
          "text": [
            "Mounted at /content/drive\n"
          ]
        }
      ]
    },
    {
      "cell_type": "code",
      "source": [
        "import pandas as pd\n",
        "\n",
        "# Load dataset (make sure the CSV file is in the same folder or give full path)\n",
        "df = pd.read_csv(\"/content/drive/MyDrive/US_Dataset/US_Accidents_March23.csv\")\n",
        "\n",
        "# Randomly sample 10,000 rows\n",
        "df_sample = df.sample(n=10000, random_state=42)\n",
        "\n",
        "# Check missing values before imputation\n",
        "print(\"Before imputation:\")\n",
        "print(df_sample[['Wind_Speed(mph)', 'Weather_Condition']].isnull().sum())"
      ],
      "metadata": {
        "colab": {
          "base_uri": "https://localhost:8080/"
        },
        "id": "I3eTg2QM-tKg",
        "outputId": "98db9389-2c0f-466d-8834-5217c527c8dd"
      },
      "id": "I3eTg2QM-tKg",
      "execution_count": 4,
      "outputs": [
        {
          "output_type": "stream",
          "name": "stdout",
          "text": [
            "Before imputation:\n",
            "Wind_Speed(mph)      776\n",
            "Weather_Condition    222\n",
            "dtype: int64\n"
          ]
        }
      ]
    },
    {
      "cell_type": "code",
      "source": [
        "# Impute Wind_Speed(mph) with median\n",
        "df_sample['Wind_Speed(mph)'] = df_sample['Wind_Speed(mph)'].fillna(df_sample['Wind_Speed(mph)'].median())\n",
        "\n",
        "# Impute Weather_Condition with mode (most frequent value)\n",
        "df_sample['Weather_Condition'] = df_sample['Weather_Condition'].fillna(df_sample['Weather_Condition'].mode()[0])\n",
        "\n",
        "# Check missing values after imputation\n",
        "print(\"\\nAfter imputation:\")\n",
        "print(df_sample[['Wind_Speed(mph)', 'Weather_Condition']].isnull().sum())"
      ],
      "metadata": {
        "colab": {
          "base_uri": "https://localhost:8080/"
        },
        "id": "VCzyLtNSF0ZB",
        "outputId": "8bb59554-deb0-455f-f1ba-91a2dfd4395d"
      },
      "id": "VCzyLtNSF0ZB",
      "execution_count": 5,
      "outputs": [
        {
          "output_type": "stream",
          "name": "stdout",
          "text": [
            "\n",
            "After imputation:\n",
            "Wind_Speed(mph)      0\n",
            "Weather_Condition    0\n",
            "dtype: int64\n"
          ]
        }
      ]
    },
    {
      "cell_type": "markdown",
      "source": [
        "**KNN Imputer**"
      ],
      "metadata": {
        "id": "zaQbEX21F8Yd"
      },
      "id": "zaQbEX21F8Yd"
    },
    {
      "cell_type": "code",
      "source": [
        "from sklearn.impute import KNNImputer\n",
        "\n",
        "# Select numerical columns to use for KNN\n",
        "num_cols = ['Wind_Speed(mph)', 'Temperature(F)', 'Humidity(%)', 'Pressure(in)', 'Visibility(mi)']\n",
        "knn_imputer = KNNImputer(n_neighbors=5)\n",
        "\n",
        "df_sample[num_cols] = knn_imputer.fit_transform(df_sample[num_cols])"
      ],
      "metadata": {
        "id": "Z4xBrLO_F9Ev"
      },
      "id": "Z4xBrLO_F9Ev",
      "execution_count": 10,
      "outputs": []
    },
    {
      "cell_type": "code",
      "source": [
        "df_sample[num_cols].info()"
      ],
      "metadata": {
        "colab": {
          "base_uri": "https://localhost:8080/"
        },
        "id": "IAiG-GEeI6PD",
        "outputId": "355953b2-ecda-42da-b4b4-2a16ddd4c8c4"
      },
      "id": "IAiG-GEeI6PD",
      "execution_count": 11,
      "outputs": [
        {
          "output_type": "stream",
          "name": "stdout",
          "text": [
            "<class 'pandas.core.frame.DataFrame'>\n",
            "Index: 10000 entries, 7133276 to 3340785\n",
            "Data columns (total 5 columns):\n",
            " #   Column           Non-Null Count  Dtype  \n",
            "---  ------           --------------  -----  \n",
            " 0   Wind_Speed(mph)  10000 non-null  float64\n",
            " 1   Temperature(F)   10000 non-null  float64\n",
            " 2   Humidity(%)      10000 non-null  float64\n",
            " 3   Pressure(in)     10000 non-null  float64\n",
            " 4   Visibility(mi)   10000 non-null  float64\n",
            "dtypes: float64(5)\n",
            "memory usage: 468.8 KB\n"
          ]
        }
      ]
    },
    {
      "cell_type": "markdown",
      "source": [
        "**2. Impute Weather_Conditions (Categorical)**\n",
        "\n",
        "Options:\n",
        "\n",
        "* Most frequent category\n",
        "\n",
        "* Forward/Backward fill (if time-ordered data)\n",
        "\n",
        "* Predictive model imputation (advanced)"
      ],
      "metadata": {
        "id": "lf-IU5tcI3Oc"
      },
      "id": "lf-IU5tcI3Oc"
    },
    {
      "cell_type": "code",
      "source": [
        "# Mode (most frequent category)\n",
        "df_sample['Weather_Condition'] = df_sample['Weather_Condition'].fillna(df_sample['Weather_Condition'].mode()[0])"
      ],
      "metadata": {
        "id": "gXJrY03ZJfNS"
      },
      "id": "gXJrY03ZJfNS",
      "execution_count": 12,
      "outputs": []
    },
    {
      "cell_type": "code",
      "source": [
        "# Forward fill\n",
        "df_sample['Weather_Condition'] = df_sample['Weather_Condition'].fillna(method='ffill')"
      ],
      "metadata": {
        "colab": {
          "base_uri": "https://localhost:8080/"
        },
        "id": "RyUEtmrmJtrh",
        "outputId": "ba5cea83-3cb7-48bb-811a-4bd036643227"
      },
      "id": "RyUEtmrmJtrh",
      "execution_count": 13,
      "outputs": [
        {
          "output_type": "stream",
          "name": "stderr",
          "text": [
            "/tmp/ipython-input-1886333241.py:2: FutureWarning: Series.fillna with 'method' is deprecated and will raise in a future version. Use obj.ffill() or obj.bfill() instead.\n",
            "  df_sample['Weather_Condition'] = df_sample['Weather_Condition'].fillna(method='ffill')\n"
          ]
        }
      ]
    },
    {
      "cell_type": "code",
      "source": [
        "print(df_sample[['Wind_Speed(mph)', 'Weather_Condition']].isnull().sum())"
      ],
      "metadata": {
        "colab": {
          "base_uri": "https://localhost:8080/"
        },
        "id": "11_iuqhtJ671",
        "outputId": "ce6c1b73-126a-47e1-b260-c194e4568b9d"
      },
      "id": "11_iuqhtJ671",
      "execution_count": 14,
      "outputs": [
        {
          "output_type": "stream",
          "name": "stdout",
          "text": [
            "Wind_Speed(mph)      0\n",
            "Weather_Condition    0\n",
            "dtype: int64\n"
          ]
        }
      ]
    }
  ],
  "metadata": {
    "kernelspec": {
      "display_name": "Python 3",
      "name": "python3"
    },
    "language_info": {
      "codemirror_mode": {
        "name": "ipython",
        "version": 3
      },
      "file_extension": ".py",
      "mimetype": "text/x-python",
      "name": "python",
      "nbconvert_exporter": "python",
      "pygments_lexer": "ipython3",
      "version": "3.11.9"
    },
    "colab": {
      "provenance": [],
      "gpuType": "V5E1",
      "include_colab_link": true
    },
    "accelerator": "TPU"
  },
  "nbformat": 4,
  "nbformat_minor": 5
}